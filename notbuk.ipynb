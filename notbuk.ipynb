{
 "cells": [
  {
   "cell_type": "code",
   "execution_count": 27,
   "metadata": {
    "collapsed": true,
    "ExecuteTime": {
     "end_time": "2024-04-16T12:16:37.948936Z",
     "start_time": "2024-04-16T12:16:37.943832Z"
    }
   },
   "outputs": [],
   "source": [
    "import match as mat\n"
   ]
  },
  {
   "cell_type": "code",
   "execution_count": 28,
   "outputs": [],
   "source": [
    "match = mat.get_match_by_id(\"EUN1_3576787586\")"
   ],
   "metadata": {
    "collapsed": false,
    "ExecuteTime": {
     "end_time": "2024-04-16T12:16:38.203323Z",
     "start_time": "2024-04-16T12:16:37.949829Z"
    }
   }
  },
  {
   "cell_type": "code",
   "execution_count": 29,
   "outputs": [
    {
     "data": {
      "text/plain": "dict_keys(['endOfGameResult', 'gameCreation', 'gameDuration', 'gameEndTimestamp', 'gameId', 'gameMode', 'gameName', 'gameStartTimestamp', 'gameType', 'gameVersion', 'mapId', 'participants', 'platformId', 'queueId', 'teams', 'tournamentCode'])"
     },
     "execution_count": 29,
     "metadata": {},
     "output_type": "execute_result"
    }
   ],
   "source": [
    "match['info'].keys()"
   ],
   "metadata": {
    "collapsed": false,
    "ExecuteTime": {
     "end_time": "2024-04-16T12:16:38.209042Z",
     "start_time": "2024-04-16T12:16:38.204650Z"
    }
   }
  },
  {
   "cell_type": "code",
   "execution_count": 30,
   "outputs": [
    {
     "data": {
      "text/plain": "dict_keys(['allInPings', 'assistMePings', 'assists', 'baronKills', 'basicPings', 'bountyLevel', 'challenges', 'champExperience', 'champLevel', 'championId', 'championName', 'championTransform', 'commandPings', 'consumablesPurchased', 'damageDealtToBuildings', 'damageDealtToObjectives', 'damageDealtToTurrets', 'damageSelfMitigated', 'dangerPings', 'deaths', 'detectorWardsPlaced', 'doubleKills', 'dragonKills', 'eligibleForProgression', 'enemyMissingPings', 'enemyVisionPings', 'firstBloodAssist', 'firstBloodKill', 'firstTowerAssist', 'firstTowerKill', 'gameEndedInEarlySurrender', 'gameEndedInSurrender', 'getBackPings', 'goldEarned', 'goldSpent', 'holdPings', 'individualPosition', 'inhibitorKills', 'inhibitorTakedowns', 'inhibitorsLost', 'item0', 'item1', 'item2', 'item3', 'item4', 'item5', 'item6', 'itemsPurchased', 'killingSprees', 'kills', 'lane', 'largestCriticalStrike', 'largestKillingSpree', 'largestMultiKill', 'longestTimeSpentLiving', 'magicDamageDealt', 'magicDamageDealtToChampions', 'magicDamageTaken', 'missions', 'needVisionPings', 'neutralMinionsKilled', 'nexusKills', 'nexusLost', 'nexusTakedowns', 'objectivesStolen', 'objectivesStolenAssists', 'onMyWayPings', 'participantId', 'pentaKills', 'perks', 'physicalDamageDealt', 'physicalDamageDealtToChampions', 'physicalDamageTaken', 'placement', 'playerAugment1', 'playerAugment2', 'playerAugment3', 'playerAugment4', 'playerSubteamId', 'profileIcon', 'pushPings', 'puuid', 'quadraKills', 'riotIdGameName', 'riotIdTagline', 'role', 'sightWardsBoughtInGame', 'spell1Casts', 'spell2Casts', 'spell3Casts', 'spell4Casts', 'subteamPlacement', 'summoner1Casts', 'summoner1Id', 'summoner2Casts', 'summoner2Id', 'summonerId', 'summonerLevel', 'summonerName', 'teamEarlySurrendered', 'teamId', 'teamPosition', 'timeCCingOthers', 'timePlayed', 'totalAllyJungleMinionsKilled', 'totalDamageDealt', 'totalDamageDealtToChampions', 'totalDamageShieldedOnTeammates', 'totalDamageTaken', 'totalEnemyJungleMinionsKilled', 'totalHeal', 'totalHealsOnTeammates', 'totalMinionsKilled', 'totalTimeCCDealt', 'totalTimeSpentDead', 'totalUnitsHealed', 'tripleKills', 'trueDamageDealt', 'trueDamageDealtToChampions', 'trueDamageTaken', 'turretKills', 'turretTakedowns', 'turretsLost', 'unrealKills', 'visionClearedPings', 'visionScore', 'visionWardsBoughtInGame', 'wardsKilled', 'wardsPlaced', 'win'])"
     },
     "execution_count": 30,
     "metadata": {},
     "output_type": "execute_result"
    }
   ],
   "source": [
    "match['info']['participants'][1].keys()"
   ],
   "metadata": {
    "collapsed": false,
    "ExecuteTime": {
     "end_time": "2024-04-16T12:16:38.211677Z",
     "start_time": "2024-04-16T12:16:38.208189Z"
    }
   }
  },
  {
   "cell_type": "code",
   "execution_count": 31,
   "outputs": [
    {
     "data": {
      "text/plain": "{'12AssistStreakCount': 0,\n 'abilityUses': 375,\n 'acesBefore15Minutes': 0,\n 'alliedJungleMonsterKills': 82,\n 'baronBuffGoldAdvantageOverThreshold': 2,\n 'baronTakedowns': 2,\n 'blastConeOppositeOpponentCount': 0,\n 'bountyGold': 750,\n 'buffsStolen': 1,\n 'completeSupportQuestInTime': 0,\n 'controlWardsPlaced': 0,\n 'damagePerMinute': 1056.2717907261854,\n 'damageTakenOnTeamPercentage': 0.19305083816791221,\n 'dancedWithRiftHerald': 0,\n 'deathsByEnemyChamps': 9,\n 'dodgeSkillShotsSmallWindow': 0,\n 'doubleAces': 0,\n 'dragonTakedowns': 2,\n 'earliestBaron': 1541.0565155,\n 'earliestDragonTakedown': 913.3703456999999,\n 'earlyLaningPhaseGoldExpAdvantage': 0,\n 'effectiveHealAndShielding': 0,\n 'elderDragonKillsWithOpposingSoul': 0,\n 'elderDragonMultikills': 0,\n 'enemyChampionImmobilizations': 55,\n 'enemyJungleMonsterKills': 17,\n 'epicMonsterKillsNearEnemyJungler': 0,\n 'epicMonsterKillsWithin30SecondsOfSpawn': 0,\n 'epicMonsterSteals': 0,\n 'epicMonsterStolenWithoutSmite': 0,\n 'firstTurretKilled': 0,\n 'flawlessAces': 0,\n 'fullTeamTakedown': 1,\n 'gameLength': 2271.7120096999997,\n 'goldPerMinute': 523.0533780476497,\n 'hadOpenNexus': 0,\n 'immobilizeAndKillWithAlly': 8,\n 'initialBuffCount': 2,\n 'initialCrabCount': 2,\n 'jungleCsBefore10Minutes': 54.000000059604645,\n 'junglerKillsEarlyJungle': 0,\n 'junglerTakedownsNearDamagedEpicMonster': 0,\n 'kTurretsDestroyedBeforePlatesFall': 0,\n 'kda': 3.6666666666666665,\n 'killAfterHiddenWithAlly': 2,\n 'killParticipation': 0.673469387755102,\n 'killedChampTookFullTeamDamageSurvived': 0,\n 'killingSprees': 2,\n 'killsNearEnemyTurret': 0,\n 'killsOnLanersEarlyJungleAsJungler': 2,\n 'killsOnRecentlyHealedByAramPack': 0,\n 'killsUnderOwnTurret': 1,\n 'killsWithHelpFromEpicMonster': 0,\n 'knockEnemyIntoTeamAndKill': 0,\n 'landSkillShotsEarlyGame': 0,\n 'laneMinionsFirst10Minutes': 1,\n 'laningPhaseGoldExpAdvantage': 0,\n 'legendaryCount': 0,\n 'legendaryItemUsed': [6699, 6701, 3033, 3508, 6698],\n 'lostAnInhibitor': 0,\n 'maxCsAdvantageOnLaneOpponent': 13.000000029802322,\n 'maxKillDeficit': 8,\n 'maxLevelLeadLaneOpponent': 1,\n 'mejaisFullStackInTime': 0,\n 'moreEnemyJungleThanOpponent': -48.50000008940697,\n 'multiKillOneSpell': 0,\n 'multiTurretRiftHeraldCount': 0,\n 'multikills': 2,\n 'multikillsAfterAggressiveFlash': 0,\n 'outerTurretExecutesBefore10Minutes': 0,\n 'outnumberedKills': 2,\n 'outnumberedNexusKill': 0,\n 'perfectDragonSoulsTaken': 0,\n 'perfectGame': 0,\n 'pickKillWithAlly': 24,\n 'playedChampSelectPosition': 1,\n 'poroExplosions': 0,\n 'quickCleanse': 0,\n 'quickFirstTurret': 0,\n 'quickSoloKills': 1,\n 'riftHeraldTakedowns': 0,\n 'saveAllyFromDeath': 0,\n 'scuttleCrabKills': 3,\n 'skillshotsDodged': 3,\n 'skillshotsHit': 0,\n 'snowballsHit': 0,\n 'soloBaronKills': 0,\n 'soloKills': 3,\n 'soloTurretsLategame': 1,\n 'stealthWardsPlaced': 9,\n 'survivedSingleDigitHpCount': 0,\n 'survivedThreeImmobilizesInFight': 6,\n 'takedownOnFirstTurret': 0,\n 'takedowns': 33,\n 'takedownsAfterGainingLevelAdvantage': 0,\n 'takedownsBeforeJungleMinionSpawn': 0,\n 'takedownsFirstXMinutes': 8,\n 'takedownsInAlcove': 1,\n 'takedownsInEnemyFountain': 0,\n 'teamBaronKills': 2,\n 'teamDamagePercentage': 0.1928406655521855,\n 'teamElderDragonKills': 0,\n 'teamRiftHeraldKills': 0,\n 'thirdInhibitorDestroyedTime': 2133.4294922,\n 'tookLargeDamageSurvived': 0,\n 'turretPlatesTaken': 0,\n 'turretTakedowns': 4,\n 'turretsTakenWithRiftHerald': 0,\n 'twentyMinionsIn3SecondsCount': 0,\n 'twoWardsOneSweeperCount': 0,\n 'unseenRecalls': 0,\n 'visionScoreAdvantageLaneOpponent': -0.04577457904815674,\n 'visionScorePerMinute': 0.585279407009938,\n 'wardTakedowns': 3,\n 'wardTakedownsBefore20M': 1,\n 'wardsGuarded': 2}"
     },
     "execution_count": 31,
     "metadata": {},
     "output_type": "execute_result"
    }
   ],
   "source": [
    "match['info']['participants'][1]['challenges']"
   ],
   "metadata": {
    "collapsed": false,
    "ExecuteTime": {
     "end_time": "2024-04-16T12:16:38.217944Z",
     "start_time": "2024-04-16T12:16:38.214685Z"
    }
   }
  },
  {
   "cell_type": "code",
   "execution_count": 32,
   "outputs": [
    {
     "ename": "AttributeError",
     "evalue": "module 'match' has no attribute 'get_match_wanted_data'",
     "output_type": "error",
     "traceback": [
      "\u001B[0;31m---------------------------------------------------------------------------\u001B[0m",
      "\u001B[0;31mAttributeError\u001B[0m                            Traceback (most recent call last)",
      "Cell \u001B[0;32mIn[32], line 1\u001B[0m\n\u001B[0;32m----> 1\u001B[0m \u001B[43mmat\u001B[49m\u001B[38;5;241;43m.\u001B[39;49m\u001B[43mget_match_wanted_data\u001B[49m(match)\n",
      "\u001B[0;31mAttributeError\u001B[0m: module 'match' has no attribute 'get_match_wanted_data'"
     ]
    }
   ],
   "source": [
    "mat.get_match_wanted_data(match)"
   ],
   "metadata": {
    "collapsed": false,
    "ExecuteTime": {
     "end_time": "2024-04-16T12:16:38.260145Z",
     "start_time": "2024-04-16T12:16:38.221497Z"
    }
   }
  },
  {
   "cell_type": "code",
   "execution_count": null,
   "outputs": [],
   "source": [],
   "metadata": {
    "collapsed": false,
    "ExecuteTime": {
     "start_time": "2024-04-16T12:16:38.230393Z"
    }
   }
  }
 ],
 "metadata": {
  "kernelspec": {
   "display_name": "Python 3",
   "language": "python",
   "name": "python3"
  },
  "language_info": {
   "codemirror_mode": {
    "name": "ipython",
    "version": 2
   },
   "file_extension": ".py",
   "mimetype": "text/x-python",
   "name": "python",
   "nbconvert_exporter": "python",
   "pygments_lexer": "ipython2",
   "version": "2.7.6"
  }
 },
 "nbformat": 4,
 "nbformat_minor": 0
}

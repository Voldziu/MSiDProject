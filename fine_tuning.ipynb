{
 "cells": [
  {
   "cell_type": "code",
   "execution_count": 2,
   "metadata": {
    "collapsed": true,
    "ExecuteTime": {
     "end_time": "2024-04-29T15:21:55.046375Z",
     "start_time": "2024-04-29T15:21:53.964709Z"
    }
   },
   "outputs": [],
   "source": [
    "import model_training\n",
    "from sklearn.model_selection import train_test_split\n",
    "from sklearn.linear_model import Ridge, Lasso\n",
    "from sklearn.model_selection import GridSearchCV\n",
    "from sklearn.ensemble import RandomForestRegressor\n",
    "from sklearn.neighbors import KNeighborsRegressor\n",
    "from sklearn.svm import SVR\n",
    "from sklearn.tree import DecisionTreeRegressor\n",
    "import numpy as np\n",
    "import constants\n",
    "import json\n",
    "import pandas as pd\n",
    "from sklearn.model_selection import train_test_split\n",
    "from sklearn.preprocessing import MinMaxScaler\n",
    "from sklearn.linear_model import LinearRegression\n",
    "from sklearn.metrics import mean_squared_error, r2_score\n",
    "import matplotlib.pyplot as plt\n"
   ]
  },
  {
   "cell_type": "code",
   "execution_count": 3,
   "outputs": [],
   "source": [
    "X,y = model_training.get_X_y()"
   ],
   "metadata": {
    "collapsed": false,
    "ExecuteTime": {
     "end_time": "2024-04-29T15:21:56.288185Z",
     "start_time": "2024-04-29T15:21:55.046607Z"
    }
   }
  },
  {
   "cell_type": "code",
   "execution_count": 4,
   "outputs": [],
   "source": [
    "X_train, X_test, y_train, y_test = train_test_split(X, y, test_size=0.33,\n",
    "                                                        random_state=42)"
   ],
   "metadata": {
    "collapsed": false,
    "ExecuteTime": {
     "end_time": "2024-04-29T15:21:56.288519Z",
     "start_time": "2024-04-29T15:21:56.131975Z"
    }
   }
  },
  {
   "cell_type": "code",
   "execution_count": 5,
   "outputs": [
    {
     "name": "stderr",
     "output_type": "stream",
     "text": [
      "/Library/Python/3.9/site-packages/sklearn/linear_model/_coordinate_descent.py:628: ConvergenceWarning: Objective did not converge. You might want to increase the number of iterations, check the scale of the features or consider increasing regularisation. Duality gap: 1.747e+08, tolerance: 3.779e+05\n",
      "  model = cd_fast.enet_coordinate_descent(\n",
      "/Library/Python/3.9/site-packages/sklearn/linear_model/_coordinate_descent.py:628: ConvergenceWarning: Objective did not converge. You might want to increase the number of iterations, check the scale of the features or consider increasing regularisation. Duality gap: 1.138e+08, tolerance: 3.824e+05\n",
      "  model = cd_fast.enet_coordinate_descent(\n",
      "/Library/Python/3.9/site-packages/sklearn/linear_model/_coordinate_descent.py:628: ConvergenceWarning: Objective did not converge. You might want to increase the number of iterations, check the scale of the features or consider increasing regularisation. Duality gap: 2.216e+08, tolerance: 3.747e+05\n",
      "  model = cd_fast.enet_coordinate_descent(\n",
      "/Library/Python/3.9/site-packages/sklearn/linear_model/_coordinate_descent.py:628: ConvergenceWarning: Objective did not converge. You might want to increase the number of iterations, check the scale of the features or consider increasing regularisation. Duality gap: 1.326e+08, tolerance: 3.842e+05\n",
      "  model = cd_fast.enet_coordinate_descent(\n",
      "/Library/Python/3.9/site-packages/sklearn/linear_model/_coordinate_descent.py:628: ConvergenceWarning: Objective did not converge. You might want to increase the number of iterations, check the scale of the features or consider increasing regularisation. Duality gap: 1.502e+08, tolerance: 3.836e+05\n",
      "  model = cd_fast.enet_coordinate_descent(\n"
     ]
    },
    {
     "data": {
      "text/plain": "Lasso(alpha=0.1)",
      "text/html": "<style>#sk-container-id-1 {color: black;}#sk-container-id-1 pre{padding: 0;}#sk-container-id-1 div.sk-toggleable {background-color: white;}#sk-container-id-1 label.sk-toggleable__label {cursor: pointer;display: block;width: 100%;margin-bottom: 0;padding: 0.3em;box-sizing: border-box;text-align: center;}#sk-container-id-1 label.sk-toggleable__label-arrow:before {content: \"▸\";float: left;margin-right: 0.25em;color: #696969;}#sk-container-id-1 label.sk-toggleable__label-arrow:hover:before {color: black;}#sk-container-id-1 div.sk-estimator:hover label.sk-toggleable__label-arrow:before {color: black;}#sk-container-id-1 div.sk-toggleable__content {max-height: 0;max-width: 0;overflow: hidden;text-align: left;background-color: #f0f8ff;}#sk-container-id-1 div.sk-toggleable__content pre {margin: 0.2em;color: black;border-radius: 0.25em;background-color: #f0f8ff;}#sk-container-id-1 input.sk-toggleable__control:checked~div.sk-toggleable__content {max-height: 200px;max-width: 100%;overflow: auto;}#sk-container-id-1 input.sk-toggleable__control:checked~label.sk-toggleable__label-arrow:before {content: \"▾\";}#sk-container-id-1 div.sk-estimator input.sk-toggleable__control:checked~label.sk-toggleable__label {background-color: #d4ebff;}#sk-container-id-1 div.sk-label input.sk-toggleable__control:checked~label.sk-toggleable__label {background-color: #d4ebff;}#sk-container-id-1 input.sk-hidden--visually {border: 0;clip: rect(1px 1px 1px 1px);clip: rect(1px, 1px, 1px, 1px);height: 1px;margin: -1px;overflow: hidden;padding: 0;position: absolute;width: 1px;}#sk-container-id-1 div.sk-estimator {font-family: monospace;background-color: #f0f8ff;border: 1px dotted black;border-radius: 0.25em;box-sizing: border-box;margin-bottom: 0.5em;}#sk-container-id-1 div.sk-estimator:hover {background-color: #d4ebff;}#sk-container-id-1 div.sk-parallel-item::after {content: \"\";width: 100%;border-bottom: 1px solid gray;flex-grow: 1;}#sk-container-id-1 div.sk-label:hover label.sk-toggleable__label {background-color: #d4ebff;}#sk-container-id-1 div.sk-serial::before {content: \"\";position: absolute;border-left: 1px solid gray;box-sizing: border-box;top: 0;bottom: 0;left: 50%;z-index: 0;}#sk-container-id-1 div.sk-serial {display: flex;flex-direction: column;align-items: center;background-color: white;padding-right: 0.2em;padding-left: 0.2em;position: relative;}#sk-container-id-1 div.sk-item {position: relative;z-index: 1;}#sk-container-id-1 div.sk-parallel {display: flex;align-items: stretch;justify-content: center;background-color: white;position: relative;}#sk-container-id-1 div.sk-item::before, #sk-container-id-1 div.sk-parallel-item::before {content: \"\";position: absolute;border-left: 1px solid gray;box-sizing: border-box;top: 0;bottom: 0;left: 50%;z-index: -1;}#sk-container-id-1 div.sk-parallel-item {display: flex;flex-direction: column;z-index: 1;position: relative;background-color: white;}#sk-container-id-1 div.sk-parallel-item:first-child::after {align-self: flex-end;width: 50%;}#sk-container-id-1 div.sk-parallel-item:last-child::after {align-self: flex-start;width: 50%;}#sk-container-id-1 div.sk-parallel-item:only-child::after {width: 0;}#sk-container-id-1 div.sk-dashed-wrapped {border: 1px dashed gray;margin: 0 0.4em 0.5em 0.4em;box-sizing: border-box;padding-bottom: 0.4em;background-color: white;}#sk-container-id-1 div.sk-label label {font-family: monospace;font-weight: bold;display: inline-block;line-height: 1.2em;}#sk-container-id-1 div.sk-label-container {text-align: center;}#sk-container-id-1 div.sk-container {/* jupyter's `normalize.less` sets `[hidden] { display: none; }` but bootstrap.min.css set `[hidden] { display: none !important; }` so we also need the `!important` here to be able to override the default hidden behavior on the sphinx rendered scikit-learn.org. See: https://github.com/scikit-learn/scikit-learn/issues/21755 */display: inline-block !important;position: relative;}#sk-container-id-1 div.sk-text-repr-fallback {display: none;}</style><div id=\"sk-container-id-1\" class=\"sk-top-container\"><div class=\"sk-text-repr-fallback\"><pre>Lasso(alpha=0.1)</pre><b>In a Jupyter environment, please rerun this cell to show the HTML representation or trust the notebook. <br />On GitHub, the HTML representation is unable to render, please try loading this page with nbviewer.org.</b></div><div class=\"sk-container\" hidden><div class=\"sk-item\"><div class=\"sk-estimator sk-toggleable\"><input class=\"sk-toggleable__control sk-hidden--visually\" id=\"sk-estimator-id-1\" type=\"checkbox\" checked><label for=\"sk-estimator-id-1\" class=\"sk-toggleable__label sk-toggleable__label-arrow\">Lasso</label><div class=\"sk-toggleable__content\"><pre>Lasso(alpha=0.1)</pre></div></div></div></div></div>"
     },
     "execution_count": 5,
     "metadata": {},
     "output_type": "execute_result"
    }
   ],
   "source": [
    "# Ridge Regression\n",
    "ridge = Ridge()\n",
    "parameters = {'alpha': [0.01, 0.1, 1, 2, 3,4,5,6,7,8,9,10]}  # alpha is the regularization strength\n",
    "ridge_regressor = GridSearchCV(ridge, parameters)\n",
    "ridge_regressor.fit(X_train, y_train)\n",
    "best_alpha_ridge = ridge_regressor.best_params_['alpha']\n",
    "best_ridge = Ridge(alpha=best_alpha_ridge)\n",
    "best_ridge.fit(X_train, y_train)\n",
    "\n",
    "# Lasso Regression\n",
    "lasso = Lasso()\n",
    "parameters = {'alpha': [0.01, 0.1, 1, 2, 3,4,5,6,7,8,9,10]}  # alpha is the regularization strength\n",
    "lasso_regressor = GridSearchCV(lasso, parameters)\n",
    "lasso_regressor.fit(X_train, y_train)\n",
    "best_alpha_lasso = lasso_regressor.best_params_['alpha']\n",
    "best_lasso = Lasso(alpha=best_alpha_lasso)\n",
    "best_lasso.fit(X_train, y_train)"
   ],
   "metadata": {
    "collapsed": false,
    "ExecuteTime": {
     "end_time": "2024-04-29T15:21:59.444592Z",
     "start_time": "2024-04-29T15:21:56.137560Z"
    }
   }
  },
  {
   "cell_type": "code",
   "execution_count": 5,
   "outputs": [],
   "source": [],
   "metadata": {
    "collapsed": false,
    "ExecuteTime": {
     "end_time": "2024-04-29T15:21:59.457067Z",
     "start_time": "2024-04-29T15:21:59.449985Z"
    }
   }
  },
  {
   "cell_type": "code",
   "execution_count": 6,
   "outputs": [
    {
     "data": {
      "text/plain": "{'alpha': 1}"
     },
     "execution_count": 6,
     "metadata": {},
     "output_type": "execute_result"
    }
   ],
   "source": [
    "ridge_regressor.best_params_"
   ],
   "metadata": {
    "collapsed": false,
    "ExecuteTime": {
     "end_time": "2024-04-29T15:21:59.489308Z",
     "start_time": "2024-04-29T15:21:59.458230Z"
    }
   }
  },
  {
   "cell_type": "markdown",
   "source": [
    "# DTR #"
   ],
   "metadata": {
    "collapsed": false
   }
  },
  {
   "cell_type": "code",
   "execution_count": 7,
   "outputs": [
    {
     "name": "stdout",
     "output_type": "stream",
     "text": [
      "Fitting 5 folds for each of 210 candidates, totalling 1050 fits\n",
      "Best parameters: {'max_depth': 5, 'min_samples_leaf': 4, 'min_samples_split': 2}\n"
     ]
    }
   ],
   "source": [
    "dt_regressor = DecisionTreeRegressor()\n",
    "\n",
    "# Define the hyperparameters you want to tune\n",
    "param_grid = {\n",
    "    'max_depth': [None, 5, 10, 15,20,25,30],\n",
    "    'min_samples_split': [2, 5, 10,3,4,5,6,7,8,9],\n",
    "    'min_samples_leaf': [1, 2, 4,]\n",
    "}\n",
    "\n",
    "# Perform grid search with cross-validation\n",
    "grid_search = GridSearchCV(estimator=dt_regressor, param_grid=param_grid, cv=5,n_jobs=8,verbose=3)\n",
    "grid_search.fit(X_train, y_train)\n",
    "\n",
    "# Get the best parameters\n",
    "best_params = grid_search.best_params_\n",
    "print(\"Best parameters:\", best_params)\n"
   ],
   "metadata": {
    "collapsed": false,
    "ExecuteTime": {
     "end_time": "2024-04-29T15:22:06.682683Z",
     "start_time": "2024-04-29T15:21:59.468800Z"
    }
   }
  },
  {
   "cell_type": "markdown",
   "source": [
    "# RFR #"
   ],
   "metadata": {
    "collapsed": false
   }
  },
  {
   "cell_type": "code",
   "execution_count": 8,
   "outputs": [
    {
     "name": "stdout",
     "output_type": "stream",
     "text": [
      "Fitting 5 folds for each of 135 candidates, totalling 675 fits\n",
      "[CV 2/5] END max_depth=None, min_samples_leaf=1, min_samples_split=5;, score=0.492 total time=   0.1s\n",
      "[CV 4/5] END max_depth=None, min_samples_leaf=1, min_samples_split=5;, score=0.500 total time=   0.1s\n",
      "[CV 2/5] END max_depth=None, min_samples_leaf=1, min_samples_split=7;, score=0.522 total time=   0.1s\n",
      "[CV 1/5] END max_depth=None, min_samples_leaf=1, min_samples_split=9;, score=0.542 total time=   0.0s\n",
      "[CV 4/5] END max_depth=None, min_samples_leaf=2, min_samples_split=5;, score=0.521 total time=   0.0s\n",
      "[CV 5/5] END max_depth=None, min_samples_leaf=2, min_samples_split=5;, score=0.527 total time=   0.1s\n",
      "[CV 5/5] END max_depth=None, min_samples_leaf=2, min_samples_split=4;, score=0.522 total time=   0.0s\n",
      "[CV 1/5] END max_depth=None, min_samples_leaf=2, min_samples_split=5;, score=0.507 total time=   0.0s\n",
      "[CV 5/5] END max_depth=None, min_samples_leaf=4, min_samples_split=2;, score=0.547 total time=   0.0s\n",
      "[CV 1/5] END max_depth=None, min_samples_leaf=4, min_samples_split=5;, score=0.586 total time=   0.0s\n",
      "[CV 2/5] END max_depth=None, min_samples_leaf=4, min_samples_split=5;, score=0.565 total time=   0.0s\n",
      "[CV 3/5] END max_depth=None, min_samples_leaf=4, min_samples_split=5;, score=0.593 total time=   0.0s\n",
      "[CV 3/5] END max_depth=None, min_samples_leaf=4, min_samples_split=6;, score=0.595 total time=   0.0s\n",
      "[CV 4/5] END max_depth=None, min_samples_leaf=4, min_samples_split=6;, score=0.563 total time=   0.0s\n",
      "[CV 5/5] END max_depth=None, min_samples_leaf=4, min_samples_split=6;, score=0.546 total time=   0.0s\n",
      "[CV 1/5] END max_depth=None, min_samples_leaf=4, min_samples_split=7;, score=0.584 total time=   0.0s\n",
      "[CV 2/5] END max_depth=5, min_samples_leaf=1, min_samples_split=5;, score=0.624 total time=   0.0s\n",
      "[CV 3/5] END max_depth=5, min_samples_leaf=1, min_samples_split=5;, score=0.658 total time=   0.0s\n",
      "[CV 4/5] END max_depth=5, min_samples_leaf=1, min_samples_split=5;, score=0.656 total time=   0.0s\n",
      "[CV 5/5] END max_depth=5, min_samples_leaf=1, min_samples_split=5;, score=0.644 total time=   0.0s\n",
      "[CV 2/5] END max_depth=5, min_samples_leaf=1, min_samples_split=5;, score=0.624 total time=   0.0s\n",
      "[CV 3/5] END max_depth=5, min_samples_leaf=1, min_samples_split=5;, score=0.658 total time=   0.0s\n",
      "[CV 4/5] END max_depth=5, min_samples_leaf=1, min_samples_split=5;, score=0.656 total time=   0.0s\n",
      "[CV 5/5] END max_depth=5, min_samples_leaf=1, min_samples_split=5;, score=0.644 total time=   0.0s\n",
      "[CV 3/5] END max_depth=5, min_samples_leaf=2, min_samples_split=10;, score=0.658 total time=   0.0s\n",
      "[CV 4/5] END max_depth=5, min_samples_leaf=2, min_samples_split=10;, score=0.656 total time=   0.0s\n",
      "[CV 5/5] END max_depth=5, min_samples_leaf=2, min_samples_split=10;, score=0.640 total time=   0.0s\n",
      "[CV 1/5] END max_depth=5, min_samples_leaf=2, min_samples_split=3;, score=0.647 total time=   0.0s\n",
      "[CV 1/5] END max_depth=5, min_samples_leaf=2, min_samples_split=8;, score=0.647 total time=   0.0s\n",
      "[CV 2/5] END max_depth=5, min_samples_leaf=2, min_samples_split=8;, score=0.625 total time=   0.0s\n",
      "[CV 3/5] END max_depth=5, min_samples_leaf=2, min_samples_split=8;, score=0.658 total time=   0.0s\n",
      "[CV 4/5] END max_depth=5, min_samples_leaf=2, min_samples_split=8;, score=0.656 total time=   0.0s\n",
      "[CV 3/5] END max_depth=5, min_samples_leaf=4, min_samples_split=4;, score=0.661 total time=   0.0s\n",
      "[CV 4/5] END max_depth=5, min_samples_leaf=4, min_samples_split=4;, score=0.656 total time=   0.0s\n",
      "[CV 5/5] END max_depth=5, min_samples_leaf=4, min_samples_split=4;, score=0.638 total time=   0.0s\n",
      "[CV 1/5] END max_depth=5, min_samples_leaf=4, min_samples_split=5;, score=0.647 total time=   0.0s\n",
      "[CV 2/5] END max_depth=5, min_samples_leaf=4, min_samples_split=5;, score=0.629 total time=   0.0s\n",
      "[CV 3/5] END max_depth=5, min_samples_leaf=4, min_samples_split=5;, score=0.661 total time=   0.0s\n",
      "[CV 4/5] END max_depth=5, min_samples_leaf=4, min_samples_split=5;, score=0.656 total time=   0.0s\n",
      "[CV 5/5] END max_depth=5, min_samples_leaf=4, min_samples_split=5;, score=0.638 total time=   0.0s\n",
      "[CV 5/5] END max_depth=10, min_samples_leaf=1, min_samples_split=8;, score=0.597 total time=   0.0s\n",
      "[CV 1/5] END max_depth=10, min_samples_leaf=1, min_samples_split=9;, score=0.604 total time=   0.0s\n",
      "[CV 2/5] END max_depth=10, min_samples_leaf=1, min_samples_split=9;, score=0.602 total time=   0.0s\n",
      "[CV 3/5] END max_depth=10, min_samples_leaf=1, min_samples_split=9;, score=0.632 total time=   0.0s\n",
      "[CV 4/5] END max_depth=10, min_samples_leaf=1, min_samples_split=9;, score=0.601 total time=   0.0s\n",
      "[CV 5/5] END max_depth=10, min_samples_leaf=1, min_samples_split=9;, score=0.593 total time=   0.0s\n",
      "[CV 1/5] END max_depth=10, min_samples_leaf=2, min_samples_split=2;, score=0.609 total time=   0.1s\n",
      "[CV 2/5] END max_depth=10, min_samples_leaf=2, min_samples_split=2;, score=0.594 total time=   0.0s\n",
      "[CV 2/5] END max_depth=10, min_samples_leaf=4, min_samples_split=3;, score=0.596 total time=   0.0s\n",
      "[CV 3/5] END max_depth=10, min_samples_leaf=4, min_samples_split=3;, score=0.643 total time=   0.0s\n",
      "[CV 4/5] END max_depth=10, min_samples_leaf=4, min_samples_split=3;, score=0.605 total time=   0.0s\n",
      "[CV 5/5] END max_depth=10, min_samples_leaf=4, min_samples_split=3;, score=0.581 total time=   0.0s\n",
      "[CV 1/5] END max_depth=10, min_samples_leaf=4, min_samples_split=4;, score=0.632 total time=   0.0s\n",
      "[CV 2/5] END max_depth=10, min_samples_leaf=4, min_samples_split=4;, score=0.601 total time=   0.0s\n",
      "[CV 3/5] END max_depth=10, min_samples_leaf=4, min_samples_split=4;, score=0.639 total time=   0.0s\n",
      "[CV 4/5] END max_depth=10, min_samples_leaf=4, min_samples_split=4;, score=0.606 total time=   0.0s\n",
      "[CV 3/5] END max_depth=15, min_samples_leaf=1, min_samples_split=4;, score=0.569 total time=   0.0s\n",
      "[CV 4/5] END max_depth=15, min_samples_leaf=1, min_samples_split=4;, score=0.507 total time=   0.0s\n",
      "[CV 5/5] END max_depth=15, min_samples_leaf=1, min_samples_split=4;, score=0.512 total time=   0.0s\n",
      "[CV 1/5] END max_depth=15, min_samples_leaf=1, min_samples_split=5;, score=0.509 total time=   0.1s\n",
      "[CV 2/5] END max_depth=15, min_samples_leaf=1, min_samples_split=5;, score=0.505 total time=   0.0s\n",
      "[CV 3/5] END max_depth=15, min_samples_leaf=1, min_samples_split=5;, score=0.555 total time=   0.0s\n",
      "[CV 4/5] END max_depth=15, min_samples_leaf=1, min_samples_split=5;, score=0.516 total time=   0.0s\n",
      "[CV 5/5] END max_depth=15, min_samples_leaf=1, min_samples_split=5;, score=0.517 total time=   0.0s\n",
      "[CV 2/5] END max_depth=15, min_samples_leaf=2, min_samples_split=7;, score=0.530 total time=   0.0s\n",
      "[CV 3/5] END max_depth=15, min_samples_leaf=2, min_samples_split=7;, score=0.559 total time=   0.0s\n",
      "[CV 4/5] END max_depth=15, min_samples_leaf=2, min_samples_split=7;, score=0.547 total time=   0.0s\n",
      "[CV 5/5] END max_depth=15, min_samples_leaf=2, min_samples_split=7;, score=0.559 total time=   0.0s\n",
      "[CV 1/5] END max_depth=15, min_samples_leaf=2, min_samples_split=8;, score=0.537 total time=   0.0s\n",
      "[CV 2/5] END max_depth=15, min_samples_leaf=2, min_samples_split=8;, score=0.541 total time=   0.0s\n",
      "[CV 3/5] END max_depth=15, min_samples_leaf=2, min_samples_split=8;, score=0.585 total time=   0.1s\n",
      "[CV 4/5] END max_depth=15, min_samples_leaf=2, min_samples_split=8;, score=0.554 total time=   0.0s\n",
      "[CV 3/5] END max_depth=15, min_samples_leaf=4, min_samples_split=8;, score=0.593 total time=   0.0s\n",
      "[CV 4/5] END max_depth=15, min_samples_leaf=4, min_samples_split=8;, score=0.569 total time=   0.0s\n",
      "[CV 5/5] END max_depth=15, min_samples_leaf=4, min_samples_split=8;, score=0.545 total time=   0.0s\n",
      "[CV 1/5] END max_depth=15, min_samples_leaf=4, min_samples_split=9;, score=0.587 total time=   0.0s\n",
      "[CV 2/5] END max_depth=15, min_samples_leaf=4, min_samples_split=9;, score=0.569 total time=   0.0s\n",
      "[CV 3/5] END max_depth=15, min_samples_leaf=4, min_samples_split=9;, score=0.595 total time=   0.0s\n",
      "[CV 4/5] END max_depth=15, min_samples_leaf=4, min_samples_split=9;, score=0.577 total time=   0.0s\n",
      "[CV 5/5] END max_depth=15, min_samples_leaf=4, min_samples_split=9;, score=0.551 total time=   0.0s\n",
      "[CV 2/5] END max_depth=20, min_samples_leaf=2, min_samples_split=5;, score=0.499 total time=   0.0s\n",
      "[CV 3/5] END max_depth=20, min_samples_leaf=2, min_samples_split=5;, score=0.554 total time=   0.0s\n",
      "[CV 4/5] END max_depth=20, min_samples_leaf=2, min_samples_split=5;, score=0.524 total time=   0.0s\n",
      "[CV 5/5] END max_depth=20, min_samples_leaf=2, min_samples_split=5;, score=0.524 total time=   0.0s\n",
      "[CV 1/5] END max_depth=20, min_samples_leaf=2, min_samples_split=10;, score=0.566 total time=   0.0s\n",
      "[CV 2/5] END max_depth=20, min_samples_leaf=2, min_samples_split=10;, score=0.558 total time=   0.0s\n",
      "[CV 3/5] END max_depth=20, min_samples_leaf=2, min_samples_split=10;, score=0.591 total time=   0.0s\n",
      "[CV 4/5] END max_depth=20, min_samples_leaf=2, min_samples_split=10;, score=0.556 total time=   0.0s\n",
      "[CV 1/5] END max_depth=20, min_samples_leaf=4, min_samples_split=4;, score=0.582 total time=   0.0s\n",
      "[CV 2/5] END max_depth=20, min_samples_leaf=4, min_samples_split=4;, score=0.570 total time=   0.0s\n",
      "[CV 3/5] END max_depth=20, min_samples_leaf=4, min_samples_split=4;, score=0.590 total time=   0.0s\n",
      "[CV 4/5] END max_depth=20, min_samples_leaf=4, min_samples_split=4;, score=0.566 total time=   0.1s\n",
      "[CV 5/5] END max_depth=20, min_samples_leaf=4, min_samples_split=4;, score=0.545 total time=   0.0s\n",
      "[CV 1/5] END max_depth=20, min_samples_leaf=4, min_samples_split=5;, score=0.586 total time=   0.1s\n",
      "[CV 2/5] END max_depth=20, min_samples_leaf=4, min_samples_split=5;, score=0.563 total time=   0.1s\n",
      "[CV 3/5] END max_depth=20, min_samples_leaf=4, min_samples_split=5;, score=0.594 total time=   0.1s\n",
      "[CV 5/5] END max_depth=25, min_samples_leaf=1, min_samples_split=6;, score=0.518 total time=   0.1s\n",
      "[CV 1/5] END max_depth=25, min_samples_leaf=1, min_samples_split=7;, score=0.524 total time=   0.1s\n",
      "[CV 2/5] END max_depth=25, min_samples_leaf=1, min_samples_split=7;, score=0.519 total time=   0.1s\n",
      "[CV 3/5] END max_depth=25, min_samples_leaf=1, min_samples_split=7;, score=0.554 total time=   0.0s\n",
      "[CV 4/5] END max_depth=25, min_samples_leaf=1, min_samples_split=7;, score=0.523 total time=   0.0s\n",
      "[CV 5/5] END max_depth=25, min_samples_leaf=1, min_samples_split=7;, score=0.541 total time=   0.0s\n",
      "[CV 1/5] END max_depth=25, min_samples_leaf=1, min_samples_split=8;, score=0.529 total time=   0.0s\n",
      "[CV 2/5] END max_depth=25, min_samples_leaf=1, min_samples_split=8;, score=0.519 total time=   0.0s\n",
      "[CV 1/5] END max_depth=25, min_samples_leaf=2, min_samples_split=8;, score=0.544 total time=   0.1s\n",
      "[CV 2/5] END max_depth=25, min_samples_leaf=2, min_samples_split=8;, score=0.540 total time=   0.0s\n",
      "[CV 3/5] END max_depth=25, min_samples_leaf=2, min_samples_split=8;, score=0.576 total time=   0.0s\n",
      "[CV 4/5] END max_depth=25, min_samples_leaf=2, min_samples_split=8;, score=0.552 total time=   0.0s\n",
      "[CV 5/5] END max_depth=25, min_samples_leaf=2, min_samples_split=8;, score=0.562 total time=   0.0s\n",
      "[CV 1/5] END max_depth=25, min_samples_leaf=2, min_samples_split=9;, score=0.557 total time=   0.0s\n",
      "[CV 2/5] END max_depth=25, min_samples_leaf=2, min_samples_split=9;, score=0.551 total time=   0.0s\n",
      "[CV 3/5] END max_depth=25, min_samples_leaf=2, min_samples_split=9;, score=0.583 total time=   0.1s\n",
      "[CV 3/5] END max_depth=30, min_samples_leaf=1, min_samples_split=10;, score=0.588 total time=   0.3s\n",
      "[CV 4/5] END max_depth=30, min_samples_leaf=1, min_samples_split=10;, score=0.547 total time=   0.1s\n",
      "[CV 5/5] END max_depth=30, min_samples_leaf=1, min_samples_split=10;, score=0.541 total time=   0.1s\n",
      "[CV 1/5] END max_depth=30, min_samples_leaf=1, min_samples_split=3;, score=0.474 total time=   0.1s\n",
      "[CV 2/5] END max_depth=30, min_samples_leaf=1, min_samples_split=3;, score=0.491 total time=   0.1s\n",
      "[CV 3/5] END max_depth=30, min_samples_leaf=1, min_samples_split=3;, score=0.540 total time=   0.1s\n",
      "[CV 4/5] END max_depth=30, min_samples_leaf=1, min_samples_split=3;, score=0.482 total time=   0.0s\n",
      "[CV 5/5] END max_depth=30, min_samples_leaf=1, min_samples_split=3;, score=0.497 total time=   0.0s\n",
      "[CV 2/5] END max_depth=30, min_samples_leaf=2, min_samples_split=5;, score=0.504 total time=   0.0s\n",
      "[CV 3/5] END max_depth=30, min_samples_leaf=2, min_samples_split=5;, score=0.557 total time=   0.1s\n",
      "[CV 4/5] END max_depth=30, min_samples_leaf=2, min_samples_split=5;, score=0.532 total time=   0.1s\n",
      "[CV 5/5] END max_depth=30, min_samples_leaf=2, min_samples_split=5;, score=0.532 total time=   0.1s\n",
      "[CV 1/5] END max_depth=30, min_samples_leaf=2, min_samples_split=6;, score=0.527 total time=   0.1s\n",
      "[CV 2/5] END max_depth=30, min_samples_leaf=2, min_samples_split=6;, score=0.520 total time=   0.1s\n",
      "[CV 3/5] END max_depth=30, min_samples_leaf=2, min_samples_split=6;, score=0.567 total time=   0.0s\n",
      "[CV 4/5] END max_depth=30, min_samples_leaf=2, min_samples_split=6;, score=0.535 total time=   0.0s\n",
      "[CV 3/5] END max_depth=30, min_samples_leaf=4, min_samples_split=6;, score=0.589 total time=   0.0s\n",
      "[CV 4/5] END max_depth=30, min_samples_leaf=4, min_samples_split=6;, score=0.572 total time=   0.0s\n",
      "[CV 5/5] END max_depth=30, min_samples_leaf=4, min_samples_split=6;, score=0.548 total time=   0.0s\n",
      "[CV 1/5] END max_depth=30, min_samples_leaf=4, min_samples_split=7;, score=0.581 total time=   0.0s\n",
      "[CV 2/5] END max_depth=30, min_samples_leaf=4, min_samples_split=7;, score=0.561 total time=   0.0s\n",
      "[CV 3/5] END max_depth=30, min_samples_leaf=4, min_samples_split=7;, score=0.592 total time=   0.0s\n",
      "[CV 4/5] END max_depth=30, min_samples_leaf=4, min_samples_split=7;, score=0.566 total time=   0.0s\n",
      "[CV 5/5] END max_depth=30, min_samples_leaf=4, min_samples_split=7;, score=0.554 total time=   0.0s\n",
      "[CV 1/5] END max_depth=None, min_samples_leaf=1, min_samples_split=2, n_estimators=20;, score=0.719 total time=   0.7s\n",
      "[CV 4/5] END max_depth=None, min_samples_leaf=1, min_samples_split=2, n_estimators=30;, score=0.727 total time=   1.2s\n",
      "[CV 3/5] END max_depth=None, min_samples_leaf=1, min_samples_split=2, n_estimators=50;, score=0.746 total time=   1.5s\n",
      "[CV 5/5] END max_depth=None, min_samples_leaf=1, min_samples_split=5, n_estimators=20;, score=0.712 total time=   0.7s\n",
      "[CV 1/5] END max_depth=None, min_samples_leaf=1, min_samples_split=5, n_estimators=40;, score=0.732 total time=   1.4s\n",
      "[CV 1/5] END max_depth=None, min_samples_leaf=1, min_samples_split=10, n_estimators=10;, score=0.718 total time=   0.3s\n",
      "[CV 2/5] END max_depth=None, min_samples_leaf=1, min_samples_split=10, n_estimators=10;, score=0.704 total time=   0.3s\n",
      "[CV 4/5] END max_depth=None, min_samples_leaf=1, min_samples_split=10, n_estimators=10;, score=0.733 total time=   0.3s\n",
      "[CV 2/5] END max_depth=None, min_samples_leaf=1, min_samples_split=10, n_estimators=20;, score=0.711 total time=   0.6s\n",
      "[CV 3/5] END max_depth=None, min_samples_leaf=1, min_samples_split=10, n_estimators=30;, score=0.744 total time=   0.8s\n",
      "[CV 1/5] END max_depth=None, min_samples_leaf=1, min_samples_split=10, n_estimators=50;, score=0.732 total time=   2.0s\n",
      "[CV 1/5] END max_depth=None, min_samples_leaf=2, min_samples_split=2, n_estimators=30;, score=0.724 total time=   0.9s\n",
      "[CV 4/5] END max_depth=None, min_samples_leaf=2, min_samples_split=2, n_estimators=40;, score=0.739 total time=   1.5s\n",
      "[CV 3/5] END max_depth=None, min_samples_leaf=2, min_samples_split=5, n_estimators=10;, score=0.722 total time=   0.3s\n",
      "[CV 1/5] END max_depth=None, min_samples_leaf=2, min_samples_split=5, n_estimators=20;, score=0.723 total time=   0.7s\n",
      "[CV 2/5] END max_depth=None, min_samples_leaf=2, min_samples_split=5, n_estimators=30;, score=0.721 total time=   0.9s\n",
      "[CV 5/5] END max_depth=None, min_samples_leaf=2, min_samples_split=5, n_estimators=40;, score=0.728 total time=   1.5s\n",
      "[CV 4/5] END max_depth=None, min_samples_leaf=2, min_samples_split=10, n_estimators=10;, score=0.729 total time=   0.3s\n",
      "[CV 4/5] END max_depth=None, min_samples_leaf=2, min_samples_split=10, n_estimators=20;, score=0.738 total time=   0.5s\n",
      "[CV 1/5] END max_depth=None, min_samples_leaf=2, min_samples_split=10, n_estimators=40;, score=0.735 total time=   1.1s\n",
      "[CV 4/5] END max_depth=None, min_samples_leaf=2, min_samples_split=10, n_estimators=50;, score=0.746 total time=   2.1s\n",
      "[CV 2/5] END max_depth=None, min_samples_leaf=4, min_samples_split=2, n_estimators=30;, score=0.727 total time=   1.3s\n",
      "Best parameters: {'max_depth': None, 'min_samples_leaf': 4, 'min_samples_split': 2, 'n_estimators': 40}\n"
     ]
    }
   ],
   "source": [
    "rf_regressor = RandomForestRegressor()\n",
    "\n",
    "# Define the hyperparameters you want to tune\n",
    "param_grid = {\n",
    "    'n_estimators': [10,20,30,40,50],\n",
    "    'max_depth': [None, 5, 10,],\n",
    "    'min_samples_split': [2, 5, 10],\n",
    "    'min_samples_leaf': [1, 2, 4]\n",
    "}\n",
    "\n",
    "# Perform grid search with cross-validation\n",
    "grid_search = GridSearchCV(estimator=rf_regressor, param_grid=param_grid, cv=5,n_jobs=8,verbose=3)\n",
    "grid_search.fit(X_train, y_train)\n",
    "\n",
    "# Get the best parameters\n",
    "best_params = grid_search.best_params_\n",
    "print(\"Best parameters:\", best_params)\n"
   ],
   "metadata": {
    "collapsed": false,
    "ExecuteTime": {
     "end_time": "2024-04-29T15:23:11.028414Z",
     "start_time": "2024-04-29T15:22:06.682944Z"
    }
   }
  },
  {
   "cell_type": "code",
   "execution_count": 10,
   "outputs": [
    {
     "name": "stdout",
     "output_type": "stream",
     "text": [
      "Fitting 5 folds for each of 144 candidates, totalling 720 fits\n",
      "Best parameters: {'C': 100, 'epsilon': 0.1, 'gamma': 1, 'kernel': 'rbf'}\n"
     ]
    }
   ],
   "source": [
    "svr = SVR()\n",
    "\n",
    "# Parameter grid for grid search\n",
    "param_grid = {\n",
    "    'kernel': ['rbf', 'linear'],  # Kernel type\n",
    "    'C': [0.1, 1, 70,80,90, 100,],        # Regularization parameter\n",
    "    'gamma': [0.01, 0.1, 1, 10],   # Kernel coefficient (for rbf kernel)\n",
    "    'epsilon': [0.01, 0.1, 1]      # Epsilon in the epsilon-SVR model\n",
    "}\n",
    "\n",
    "grid_search = GridSearchCV(estimator=svr, param_grid=param_grid, cv=5,n_jobs=8,verbose=3)\n",
    "grid_search.fit(X_train, y_train)\n",
    "\n",
    "# Get the best parameters\n",
    "best_params = grid_search.best_params_\n",
    "print(\"Best parameters:\", best_params)"
   ],
   "metadata": {
    "collapsed": false,
    "ExecuteTime": {
     "end_time": "2024-04-29T15:28:44.129125Z",
     "start_time": "2024-04-29T15:27:58.471196Z"
    }
   }
  },
  {
   "cell_type": "markdown",
   "source": [],
   "metadata": {
    "collapsed": false
   }
  },
  {
   "cell_type": "code",
   "execution_count": null,
   "outputs": [],
   "source": [],
   "metadata": {
    "collapsed": false
   }
  },
  {
   "cell_type": "markdown",
   "source": [],
   "metadata": {
    "collapsed": false
   }
  }
 ],
 "metadata": {
  "kernelspec": {
   "display_name": "Python 3",
   "language": "python",
   "name": "python3"
  },
  "language_info": {
   "codemirror_mode": {
    "name": "ipython",
    "version": 2
   },
   "file_extension": ".py",
   "mimetype": "text/x-python",
   "name": "python",
   "nbconvert_exporter": "python",
   "pygments_lexer": "ipython2",
   "version": "2.7.6"
  }
 },
 "nbformat": 4,
 "nbformat_minor": 0
}
